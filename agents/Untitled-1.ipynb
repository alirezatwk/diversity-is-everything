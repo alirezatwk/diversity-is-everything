{
 "cells": [
  {
   "cell_type": "code",
   "execution_count": 3,
   "metadata": {},
   "outputs": [
    {
     "data": {
      "text/plain": [
       "array([0.84134475, 0.84134475])"
      ]
     },
     "execution_count": 3,
     "metadata": {},
     "output_type": "execute_result"
    }
   ],
   "source": [
    "import numpy as np\n",
    "from scipy.stats import norm, beta\n",
    "norm.cdf(1, [0,0], [1,1] )"
   ]
  },
  {
   "cell_type": "code",
   "execution_count": 2,
   "metadata": {},
   "outputs": [
    {
     "data": {
      "text/plain": [
       "array([ 1.,  2.,  3.,  4.,  5.,  6.,  7.,  8.,  9., 10.])"
      ]
     },
     "execution_count": 2,
     "metadata": {},
     "output_type": "execute_result"
    }
   ],
   "source": [
    "import numpy as np\n",
    "rewards = np.ones((5,10))\n",
    "diff_rewards =  2 - rewards \n",
    "random_regrets = np.cumsum(diff_rewards, axis=1)\n",
    "np.mean(random_regrets, axis=0)"
   ]
  },
  {
   "cell_type": "code",
   "execution_count": 1,
   "metadata": {},
   "outputs": [
    {
     "name": "stdout",
     "output_type": "stream",
     "text": [
      "[0.00289915 0.17179605 0.15863099 0.08858084 0.17406424 0.13478921\n",
      " 0.0270247  0.01632541 0.11594803 0.10994136]\n",
      "(3, 10)\n",
      "(3, 10)\n",
      "[[0.00289915 0.17179605 0.15863099 0.08858084 0.17406424 0.13478921\n",
      "  0.0270247  0.01632541 0.11594803 0.10994136]\n",
      " [0.00289915 0.17179605 0.15863099 0.08858084 0.17406424 0.13478921\n",
      "  0.0270247  0.01632541 0.11594803 0.10994136]\n",
      " [0.00289915 0.17179605 0.15863099 0.08858084 0.17406424 0.13478921\n",
      "  0.0270247  0.01632541 0.11594803 0.10994136]]\n",
      "(3,)\n",
      "[2.3024851 2.3024851 2.3024851]\n"
     ]
    }
   ],
   "source": [
    "import numpy as np \n",
    "k = 10\n",
    "n_agents = 3\n",
    "n0 = 10\n",
    "c = 0.5\n",
    "\n",
    "social_information = n0 * np.ones((n_agents, k))\n",
    "pi_TS = np.random.rand(k) \n",
    "pi_TS = pi_TS / np.sum(pi_TS)\n",
    "print(pi_TS)\n",
    "\n",
    "U = np.log(social_information/np.sum(social_information, axis = 1, keepdims = True) + 0.00001) \n",
    "print(U.shape)\n",
    "Pi_star = pi_TS * np.exp((1/c) * U)\n",
    "print(Pi_star.shape)\n",
    "Pi_star = Pi_star / np.sum(Pi_star, axis = 1, keepdims = True)\n",
    "print(Pi_star)\n",
    "FE = np.sum(Pi_star * (c*np.log((Pi_star + 0.00001)/(pi_TS + 0.00001)) - U), axis = 1)\n",
    "print(FE.shape)\n",
    "print(FE)"
   ]
  },
  {
   "cell_type": "code",
   "execution_count": 2,
   "metadata": {},
   "outputs": [
    {
     "data": {
      "text/plain": [
       "array([[[1., 1., 1., 1., 1., 1., 1., 1., 1., 1.],\n",
       "        [1., 1., 1., 1., 1., 1., 1., 1., 1., 1.],\n",
       "        [1., 1., 1., 1., 1., 1., 1., 1., 1., 1.],\n",
       "        [1., 1., 1., 1., 1., 1., 1., 1., 1., 1.],\n",
       "        [1., 1., 1., 1., 1., 1., 1., 1., 1., 1.]],\n",
       "\n",
       "       [[1., 1., 1., 1., 1., 1., 1., 1., 1., 1.],\n",
       "        [1., 1., 1., 1., 1., 1., 1., 1., 1., 1.],\n",
       "        [1., 1., 1., 1., 1., 1., 1., 1., 1., 1.],\n",
       "        [1., 1., 1., 1., 1., 1., 1., 1., 1., 1.],\n",
       "        [1., 1., 1., 1., 1., 1., 1., 1., 1., 1.]]])"
      ]
     },
     "execution_count": 2,
     "metadata": {},
     "output_type": "execute_result"
    }
   ],
   "source": [
    "import numpy as np \n",
    "a = np.ones((2,5,10))\n",
    "a"
   ]
  },
  {
   "cell_type": "code",
   "execution_count": 3,
   "metadata": {},
   "outputs": [
    {
     "data": {
      "text/plain": [
       "(2, 10)"
      ]
     },
     "execution_count": 3,
     "metadata": {},
     "output_type": "execute_result"
    }
   ],
   "source": [
    "b = np.mean(a, axis =1)\n",
    "b.shape"
   ]
  },
  {
   "cell_type": "code",
   "execution_count": 4,
   "metadata": {},
   "outputs": [
    {
     "data": {
      "text/plain": [
       "array([[1., 1., 1., 1., 1., 1., 1., 1., 1., 1.],\n",
       "       [1., 1., 1., 1., 1., 1., 1., 1., 1., 1.]])"
      ]
     },
     "execution_count": 4,
     "metadata": {},
     "output_type": "execute_result"
    }
   ],
   "source": [
    "b"
   ]
  },
  {
   "cell_type": "code",
   "execution_count": 1,
   "metadata": {},
   "outputs": [
    {
     "name": "stdout",
     "output_type": "stream",
     "text": [
      "erfan\n",
      "age\n",
      "height\n",
      "arman\n",
      "age\n",
      "weight\n"
     ]
    }
   ],
   "source": [
    "a = {}\n",
    "\n",
    "a['erfan'] = {}\n",
    "\n",
    "a['erfan']['age'] = 24\n",
    "a['erfan']['height'] = 180\n",
    "\n",
    "a['arman'] = {}\n",
    "a['arman']['age'] = 20\n",
    "a['arman']['weight'] = 65\n",
    "\n",
    "for key in a:\n",
    "    print(key)\n",
    "    for k in a[key]:\n",
    "        print(k)\n",
    "\n",
    "\n"
   ]
  },
  {
   "cell_type": "code",
   "execution_count": 7,
   "metadata": {},
   "outputs": [
    {
     "data": {
      "text/plain": [
       "array([[0., 0., 0., 0., 0.],\n",
       "       [0., 0., 0., 0., 0.]])"
      ]
     },
     "execution_count": 7,
     "metadata": {},
     "output_type": "execute_result"
    }
   ],
   "source": [
    "import numpy as np \n",
    "a = np.ones((2,5))\n",
    "b = np.zeros((2,5))\n",
    "\n",
    "c = a * b\n",
    "c"
   ]
  },
  {
   "cell_type": "code",
   "execution_count": 4,
   "metadata": {},
   "outputs": [
    {
     "data": {
      "text/plain": [
       "(4,)"
      ]
     },
     "execution_count": 4,
     "metadata": {},
     "output_type": "execute_result"
    }
   ],
   "source": [
    "x = np.array([1,2,4,43])\n",
    "\n",
    "x = x / np.sum(x)\n",
    "x.shape"
   ]
  },
  {
   "cell_type": "code",
   "execution_count": 8,
   "metadata": {},
   "outputs": [
    {
     "data": {
      "text/plain": [
       "array([5., 5.])"
      ]
     },
     "execution_count": 8,
     "metadata": {},
     "output_type": "execute_result"
    }
   ],
   "source": [
    "np.sum(a, axis = 1)"
   ]
  },
  {
   "cell_type": "code",
   "execution_count": 9,
   "metadata": {},
   "outputs": [
    {
     "data": {
      "text/plain": [
       "((1, 10), array([[1., 1., 1., 1., 1., 1., 1., 1., 1., 1.]]))"
      ]
     },
     "execution_count": 9,
     "metadata": {},
     "output_type": "execute_result"
    }
   ],
   "source": [
    "exp_best = 2\n",
    "rewards = np.ones((1,10))\n",
    "diff_rewards =  exp_best - rewards \n",
    "diff_rewards.shape, diff_rewards"
   ]
  },
  {
   "cell_type": "code",
   "execution_count": null,
   "metadata": {},
   "outputs": [],
   "source": []
  }
 ],
 "metadata": {
  "kernelspec": {
   "display_name": "base",
   "language": "python",
   "name": "python3"
  },
  "language_info": {
   "codemirror_mode": {
    "name": "ipython",
    "version": 3
   },
   "file_extension": ".py",
   "mimetype": "text/x-python",
   "name": "python",
   "nbconvert_exporter": "python",
   "pygments_lexer": "ipython3",
   "version": "3.10.10"
  },
  "orig_nbformat": 4,
  "vscode": {
   "interpreter": {
    "hash": "b4d5b7baa1e43544ea476dc66f389bcb70b994085a6190d5cd7607f6c5626cb7"
   }
  }
 },
 "nbformat": 4,
 "nbformat_minor": 2
}
